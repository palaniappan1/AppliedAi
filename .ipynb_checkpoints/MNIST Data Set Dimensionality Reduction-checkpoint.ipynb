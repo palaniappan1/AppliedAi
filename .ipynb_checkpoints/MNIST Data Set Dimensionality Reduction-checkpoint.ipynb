{
 "cells": [
  {
   "cell_type": "code",
   "execution_count": 15,
   "id": "f80ab0ec",
   "metadata": {},
   "outputs": [
    {
     "name": "stdout",
     "output_type": "stream",
     "text": [
      "   label  pixel0  pixel1  pixel2  pixel3  pixel4  pixel5  pixel6  pixel7  \\\n",
      "0      1       0       0       0       0       0       0       0       0   \n",
      "1      0       0       0       0       0       0       0       0       0   \n",
      "2      1       0       0       0       0       0       0       0       0   \n",
      "3      4       0       0       0       0       0       0       0       0   \n",
      "4      0       0       0       0       0       0       0       0       0   \n",
      "\n",
      "   pixel8  ...  pixel774  pixel775  pixel776  pixel777  pixel778  pixel779  \\\n",
      "0       0  ...         0         0         0         0         0         0   \n",
      "1       0  ...         0         0         0         0         0         0   \n",
      "2       0  ...         0         0         0         0         0         0   \n",
      "3       0  ...         0         0         0         0         0         0   \n",
      "4       0  ...         0         0         0         0         0         0   \n",
      "\n",
      "   pixel780  pixel781  pixel782  pixel783  \n",
      "0         0         0         0         0  \n",
      "1         0         0         0         0  \n",
      "2         0         0         0         0  \n",
      "3         0         0         0         0  \n",
      "4         0         0         0         0  \n",
      "\n",
      "[5 rows x 785 columns]\n"
     ]
    }
   ],
   "source": [
    "import numpy as np\n",
    "import pandas as pd\n",
    "import matplotlib.pyplot as plt\n",
    "\n",
    "d0 = pd.read_csv('./digit-recognizer/train.csv')\n",
    "print(d0.head(5))\n",
    "\n",
    "# save the labels into a variable l\n",
    "l = d0['label']\n",
    "\n",
    "#Drop the label features and store the pixel data in d\n",
    "d = d0.drop(\"label\",axis = 1)"
   ]
  },
  {
   "cell_type": "code",
   "execution_count": 16,
   "id": "72a33f8f",
   "metadata": {},
   "outputs": [
    {
     "name": "stdout",
     "output_type": "stream",
     "text": [
      "(42000, 784)\n",
      "(42000,)\n"
     ]
    }
   ],
   "source": [
    "print(d.shape)\n",
    "print(l.shape)"
   ]
  },
  {
   "cell_type": "code",
   "execution_count": 21,
   "id": "8590cbdc",
   "metadata": {},
   "outputs": [
    {
     "data": {
      "image/png": "[encoded data removed]",
      "text/plain": [
       "<Figure size 504x504 with 1 Axes>"
      ]
     },
     "metadata": {
      "needs_background": "light"
     },
     "output_type": "display_data"
    },
    {
     "name": "stdout",
     "output_type": "stream",
     "text": [
      "8\n"
     ]
    }
   ],
   "source": [
    "# display or plot a number\n",
    "plt.figure(figsize= (7,7))\n",
    "idx = 10 #index\n",
    "\n",
    "#d.iloc get data based on integer location and convert it to matrix and rescale to 28,28\n",
    "grid_data = d.iloc[idx].to_numpy().reshape(28,28) # reshape from 1d to 2d\n",
    "plt.imshow(grid_data,interpolation=\"none\",cmap=\"gray\")\n",
    "plt.show()\n",
    "\n",
    "print(l[idx])"
   ]
  },
  {
   "cell_type": "markdown",
   "id": "b4608193",
   "metadata": {},
   "source": [
    "# 2D Visualization using PCA"
   ]
  },
  {
   "cell_type": "code",
   "execution_count": 22,
   "id": "2a9f9048",
   "metadata": {},
   "outputs": [
    {
     "name": "stdout",
     "output_type": "stream",
     "text": [
      "The shape of the sample data is (15000, 784)\n"
     ]
    }
   ],
   "source": [
    "# Take only 15000 datas for time efficiency \n",
    "labels = l.head(15000)\n",
    "data = d.head(15000)\n",
    "\n",
    "print(\"The shape of the sample data is\", data.shape)"
   ]
  },
  {
   "cell_type": "code",
   "execution_count": 23,
   "id": "33d3d789",
   "metadata": {},
   "outputs": [
    {
     "name": "stdout",
     "output_type": "stream",
     "text": [
      "(15000, 784)\n"
     ]
    }
   ],
   "source": [
    "# Data Preprocessing: Standardizing the data\n",
    "# Standardizing basically means for every datapoint xi do (xi - mean) / S.D (Mean = 0, S.D = 1)\n",
    "#Standardize features by removing the mean and scaling to unit variance\n",
    "from sklearn.preprocessing import StandardScaler\n",
    "standardized_data = StandardScaler().fit_transform(data)\n",
    "print(standardized_data.shape)"
   ]
  },
  {
   "cell_type": "code",
   "execution_count": 24,
   "id": "69c82be4",
   "metadata": {},
   "outputs": [
    {
     "name": "stdout",
     "output_type": "stream",
     "text": [
      "The shape of the variance matri =  (784, 784)\n"
     ]
    }
   ],
   "source": [
    "#find co-variance matrix which is : A^T * A\n",
    "sample_data = standardized_data\n",
    "\n",
    "#Matrix Multiplication using numpy array\n",
    "covar_matrix = np.matmul(sample_data.T , sample_data)\n",
    "\n",
    "print(\"The shape of the variance matrix = \",covar_matrix.shape)"
   ]
  },
  {
   "cell_type": "code",
   "execution_count": 28,
   "id": "aac8323a",
   "metadata": {},
   "outputs": [
    {
     "name": "stdout",
     "output_type": "stream",
     "text": [
      "Shape of eigen vectors =  (784, 2)\n",
      "Updated shape of eigen vectors =  (2, 784)\n"
     ]
    }
   ],
   "source": [
    "#as we need to reduce dimension to 2d find the top 2 eigen-values and coressponding eigen-vectors\n",
    "#for projecting onto a 2-D Space\n",
    "\n",
    "from scipy.linalg import eigh\n",
    "\n",
    "#The parameter 'eigvals' is defined (low value to high value)\n",
    "#eigh function will return the eigen values in ascending order\n",
    "#this code generates only the top 2 (782,783) eigen values.\n",
    "values,vectors = eigh(covar_matrix,eigvals = (782,783))\n",
    "\n",
    "print(\"Shape of eigen vectors = \",vectors.shape)\n",
    "\n",
    "#converting the eigen vectors into (2,d) shape for easyness\n",
    "vectors = vectors.T\n",
    "\n",
    "#Here the vectors[1] represents the eigen vector corresponding 1st principal\n",
    "#Here the vectors[2] represents the eigen vector corresponding 2nd principal\n",
    "print(\"Updated shape of eigen vectors = \",vectors.shape)"
   ]
  },
  {
   "cell_type": "code",
   "execution_count": 36,
   "id": "52434b75",
   "metadata": {},
   "outputs": [
    {
     "name": "stdout",
     "output_type": "stream",
     "text": [
      "resultant new data points' shape (2, 784) X (784, 15000) = (2, 15000)\n"
     ]
    }
   ],
   "source": [
    "#Projecting the original data sample on the plane \n",
    "#formed by two principal eigen vectors by vector-vector multiplication\n",
    "\n",
    "import matplotlib.pyplot as plt\n",
    "new_coordinates = np.matmul(vectors,sample_data.T)\n",
    "\n",
    "print(\"resultant new data points' shape\" , vectors.shape , \"X\" , sample_data.T.shape , \"=\" \n",
    "      , new_coordinates.shape)"
   ]
  },
  {
   "cell_type": "code",
   "execution_count": 42,
   "id": "03b58b13",
   "metadata": {},
   "outputs": [
    {
     "ename": "ValueError",
     "evalue": "all the input array dimensions for the concatenation axis must match exactly, but along dimension 1, the array at index 0 has size 3 and the array at index 1 has size 15000",
     "output_type": "error",
     "traceback": [
      "\u001b[0;31m---------------------------------------------------------------------------\u001b[0m",
      "\u001b[0;31mValueError\u001b[0m                                Traceback (most recent call last)",
      "\u001b[0;32m/var/folders/_j/nv86yp590qvbg6pwl9t2wydm0000gn/T/ipykernel_3273/2603516614.py\u001b[0m in \u001b[0;36m<module>\u001b[0;34m\u001b[0m\n\u001b[0;32m----> 1\u001b[0;31m \u001b[0mnew_coordinates\u001b[0m \u001b[0;34m=\u001b[0m \u001b[0mnp\u001b[0m\u001b[0;34m.\u001b[0m\u001b[0mvstack\u001b[0m\u001b[0;34m(\u001b[0m\u001b[0;34m(\u001b[0m\u001b[0mnew_coordinates\u001b[0m \u001b[0;34m,\u001b[0m \u001b[0mlabels\u001b[0m\u001b[0;34m)\u001b[0m\u001b[0;34m)\u001b[0m\u001b[0;34m.\u001b[0m\u001b[0mT\u001b[0m\u001b[0;34m\u001b[0m\u001b[0;34m\u001b[0m\u001b[0m\n\u001b[0m\u001b[1;32m      2\u001b[0m \u001b[0;34m\u001b[0m\u001b[0m\n\u001b[1;32m      3\u001b[0m dataFrame = pd.DataFrame(data = new_coordinates , columns = (\"1st_principal\", \"2nd_principal\"\n\u001b[1;32m      4\u001b[0m                                                             ,\"label\"))\n\u001b[1;32m      5\u001b[0m \u001b[0mprint\u001b[0m\u001b[0;34m(\u001b[0m\u001b[0mdataFrame\u001b[0m\u001b[0;34m.\u001b[0m\u001b[0mhead\u001b[0m\u001b[0;34m(\u001b[0m\u001b[0;34m)\u001b[0m\u001b[0;34m)\u001b[0m\u001b[0;34m\u001b[0m\u001b[0;34m\u001b[0m\u001b[0m\n",
      "\u001b[0;32m<__array_function__ internals>\u001b[0m in \u001b[0;36mvstack\u001b[0;34m(*args, **kwargs)\u001b[0m\n",
      "\u001b[0;32m~/opt/anaconda3/lib/python3.9/site-packages/numpy/core/shape_base.py\u001b[0m in \u001b[0;36mvstack\u001b[0;34m(tup)\u001b[0m\n\u001b[1;32m    281\u001b[0m     \u001b[0;32mif\u001b[0m \u001b[0;32mnot\u001b[0m \u001b[0misinstance\u001b[0m\u001b[0;34m(\u001b[0m\u001b[0marrs\u001b[0m\u001b[0;34m,\u001b[0m \u001b[0mlist\u001b[0m\u001b[0;34m)\u001b[0m\u001b[0;34m:\u001b[0m\u001b[0;34m\u001b[0m\u001b[0;34m\u001b[0m\u001b[0m\n\u001b[1;32m    282\u001b[0m         \u001b[0marrs\u001b[0m \u001b[0;34m=\u001b[0m \u001b[0;34m[\u001b[0m\u001b[0marrs\u001b[0m\u001b[0;34m]\u001b[0m\u001b[0;34m\u001b[0m\u001b[0;34m\u001b[0m\u001b[0m\n\u001b[0;32m--> 283\u001b[0;31m     \u001b[0;32mreturn\u001b[0m \u001b[0m_nx\u001b[0m\u001b[0;34m.\u001b[0m\u001b[0mconcatenate\u001b[0m\u001b[0;34m(\u001b[0m\u001b[0marrs\u001b[0m\u001b[0;34m,\u001b[0m \u001b[0;36m0\u001b[0m\u001b[0;34m)\u001b[0m\u001b[0;34m\u001b[0m\u001b[0;34m\u001b[0m\u001b[0m\n\u001b[0m\u001b[1;32m    284\u001b[0m \u001b[0;34m\u001b[0m\u001b[0m\n\u001b[1;32m    285\u001b[0m \u001b[0;34m\u001b[0m\u001b[0m\n",
      "\u001b[0;32m<__array_function__ internals>\u001b[0m in \u001b[0;36mconcatenate\u001b[0;34m(*args, **kwargs)\u001b[0m\n",
      "\u001b[0;31mValueError\u001b[0m: all the input array dimensions for the concatenation axis must match exactly, but along dimension 1, the array at index 0 has size 3 and the array at index 1 has size 15000"
     ]
    }
   ],
   "source": [
    "#vstack means add data to the stack vertically (row)\n",
    "new_coordinates = np.vstack((new_coordinates , labels)).T\n",
    "\n",
    "dataFrame = pd.DataFrame(data = new_coordinates , columns = (\"1st_principal\", \"2nd_principal\"\n",
    "                                                            ,\"label\"))\n",
    "print(dataFrame.head())"
   ]
  },
  {
   "cell_type": "code",
   "execution_count": null,
   "id": "82fa2d15",
   "metadata": {},
   "outputs": [],
   "source": []
  }
 ],
 "metadata": {
  "kernelspec": {
   "display_name": "Python 3 (ipykernel)",
   "language": "python",
   "name": "python3"
  },
  "language_info": {
   "codemirror_mode": {
    "name": "ipython",
    "version": 3
   },
   "file_extension": ".py",
   "mimetype": "text/x-python",
   "name": "python",
   "nbconvert_exporter": "python",
   "pygments_lexer": "ipython3",
   "version": "3.9.7"
  }
 },
 "nbformat": 4,
 "nbformat_minor": 5
}
